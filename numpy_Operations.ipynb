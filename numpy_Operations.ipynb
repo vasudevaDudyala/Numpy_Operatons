{
 "cells": [
  {
   "cell_type": "code",
   "execution_count": 1,
   "id": "2e57a35f",
   "metadata": {},
   "outputs": [],
   "source": [
    "import numpy as np"
   ]
  },
  {
   "cell_type": "code",
   "execution_count": 2,
   "id": "c9365025",
   "metadata": {},
   "outputs": [
    {
     "name": "stdout",
     "output_type": "stream",
     "text": [
      "[1 2 3 4 5]\n"
     ]
    }
   ],
   "source": [
    "# create a 1-dimensional array \n",
    "a = np.array([1, 2, 3, 4, 5]) \n",
    "print(a) "
   ]
  },
  {
   "cell_type": "code",
   "execution_count": 3,
   "id": "6e41edb2",
   "metadata": {},
   "outputs": [
    {
     "name": "stdout",
     "output_type": "stream",
     "text": [
      "[[1 2 3]\n",
      " [4 5 6]]\n"
     ]
    }
   ],
   "source": [
    "# create a 2-dimensional array \n",
    "b = np.array([[1, 2, 3], [4, 5, 6]])\n",
    "print(b) "
   ]
  },
  {
   "cell_type": "code",
   "execution_count": 4,
   "id": "2b5a6fd5",
   "metadata": {},
   "outputs": [
    {
     "name": "stdout",
     "output_type": "stream",
     "text": [
      "[[0. 0. 0. 0.]\n",
      " [0. 0. 0. 0.]\n",
      " [0. 0. 0. 0.]]\n"
     ]
    }
   ],
   "source": [
    "# create an array of zeros \n",
    "c = np.zeros((3, 4)) \n",
    "print(c) "
   ]
  },
  {
   "cell_type": "code",
   "execution_count": 5,
   "id": "b3ee15f2",
   "metadata": {},
   "outputs": [
    {
     "name": "stdout",
     "output_type": "stream",
     "text": [
      "[[1. 1.]\n",
      " [1. 1.]]\n"
     ]
    }
   ],
   "source": [
    "# create an array of ones \n",
    "d = np.ones((2, 2)) \n",
    "print(d) "
   ]
  },
  {
   "cell_type": "code",
   "execution_count": 10,
   "id": "51b411f5",
   "metadata": {},
   "outputs": [
    {
     "name": "stdout",
     "output_type": "stream",
     "text": [
      "[0 2 4 6 8]\n"
     ]
    }
   ],
   "source": [
    "#Creates an array with evenly spaced values.\n",
    "e = np.arange(0, 10, 2)\n",
    "print(e)"
   ]
  },
  {
   "cell_type": "code",
   "execution_count": 17,
   "id": "b5dcd5e5",
   "metadata": {},
   "outputs": [
    {
     "name": "stdout",
     "output_type": "stream",
     "text": [
      "(5,)\n"
     ]
    }
   ],
   "source": [
    "list = [1, 2, 3, 4, 5]\n",
    "array = np.array(list)\n",
    "s=array.shape\n",
    "print(s)"
   ]
  },
  {
   "cell_type": "code",
   "execution_count": 18,
   "id": "f933cf0f",
   "metadata": {},
   "outputs": [
    {
     "name": "stdout",
     "output_type": "stream",
     "text": [
      "5\n"
     ]
    }
   ],
   "source": [
    " # Number of elements in the array\n",
    "size = array.size  \n",
    "print(size)"
   ]
  },
  {
   "cell_type": "code",
   "execution_count": 19,
   "id": "0dcbe84e",
   "metadata": {},
   "outputs": [
    {
     "name": "stdout",
     "output_type": "stream",
     "text": [
      "int32\n"
     ]
    }
   ],
   "source": [
    " # Data type of the elements in the array\n",
    "dtype =array.dtype     \n",
    "print(dtype)"
   ]
  },
  {
   "cell_type": "code",
   "execution_count": 6,
   "id": "dca4449c",
   "metadata": {},
   "outputs": [
    {
     "name": "stdout",
     "output_type": "stream",
     "text": [
      "[5 7 9]\n"
     ]
    }
   ],
   "source": [
    "# add two arrays\n",
    "a = np.array([1, 2, 3])\n",
    "b = np.array([4, 5, 6]) \n",
    "c = a + b \n",
    "print(c) "
   ]
  },
  {
   "cell_type": "code",
   "execution_count": 20,
   "id": "68f9009f",
   "metadata": {},
   "outputs": [
    {
     "name": "stdout",
     "output_type": "stream",
     "text": [
      "[-3 -3 -3]\n"
     ]
    }
   ],
   "source": [
    "# Subtraction of two arrays\n",
    "sub=a-b\n",
    "print(sub)"
   ]
  },
  {
   "cell_type": "code",
   "execution_count": 21,
   "id": "f8e72bc1",
   "metadata": {},
   "outputs": [
    {
     "name": "stdout",
     "output_type": "stream",
     "text": [
      "[0.25 0.4  0.5 ]\n"
     ]
    }
   ],
   "source": [
    "# Division of two arrays\n",
    "div=a/b\n",
    "print(div)"
   ]
  },
  {
   "cell_type": "code",
   "execution_count": 7,
   "id": "b37eb269",
   "metadata": {},
   "outputs": [
    {
     "name": "stdout",
     "output_type": "stream",
     "text": [
      "[[ 5 12]\n",
      " [21 32]]\n"
     ]
    }
   ],
   "source": [
    "# multiply two arrays \n",
    "d = np.array([[1, 2], [3, 4]]) \n",
    "e = np.array([[5, 6], [7, 8]]) \n",
    "f = d * e \n",
    "print(f) "
   ]
  },
  {
   "cell_type": "code",
   "execution_count": 8,
   "id": "8ab91221",
   "metadata": {},
   "outputs": [
    {
     "name": "stdout",
     "output_type": "stream",
     "text": [
      "[[19 22]\n",
      " [43 50]]\n"
     ]
    }
   ],
   "source": [
    "# perform matrix multiplication \n",
    "g = np.array([[1, 2], [3, 4]]) \n",
    "h = np.array([[5, 6], [7, 8]]) \n",
    "i = np.dot(g, h) \n",
    "print(i) "
   ]
  },
  {
   "cell_type": "code",
   "execution_count": 22,
   "id": "19971be3",
   "metadata": {},
   "outputs": [
    {
     "name": "stdout",
     "output_type": "stream",
     "text": [
      "[1.         1.41421356 1.73205081 2.         2.23606798]\n"
     ]
    }
   ],
   "source": [
    "# Square root of each element\n",
    "a1 = np.array([1, 2, 3, 4, 5])\n",
    "sqrt_result = np.sqrt(a1)\n",
    "print(sqrt_result)\n"
   ]
  },
  {
   "cell_type": "code",
   "execution_count": 23,
   "id": "5113135d",
   "metadata": {},
   "outputs": [
    {
     "name": "stdout",
     "output_type": "stream",
     "text": [
      "15\n"
     ]
    }
   ],
   "source": [
    "# Sum of all elements\n",
    "sum_value = np.sum(a1)\n",
    "print(sum_value)"
   ]
  },
  {
   "cell_type": "code",
   "execution_count": 24,
   "id": "4fd11325",
   "metadata": {},
   "outputs": [
    {
     "name": "stdout",
     "output_type": "stream",
     "text": [
      "3.0\n"
     ]
    }
   ],
   "source": [
    "# Mean of all elements\n",
    "mean_value = np.mean(a1)\n",
    "print(mean_value)"
   ]
  },
  {
   "cell_type": "code",
   "execution_count": 27,
   "id": "babe0bd8",
   "metadata": {},
   "outputs": [
    {
     "name": "stdout",
     "output_type": "stream",
     "text": [
      "3.0\n"
     ]
    }
   ],
   "source": [
    "# Median of all elements\n",
    "median_value = np.median(a1)\n",
    "print(median_value)"
   ]
  },
  {
   "cell_type": "code",
   "execution_count": 29,
   "id": "38c22b1b",
   "metadata": {},
   "outputs": [
    {
     "name": "stdout",
     "output_type": "stream",
     "text": [
      "5\n"
     ]
    }
   ],
   "source": [
    "# Maximum value\n",
    "max_value = np.max(a1) \n",
    "print(max_value)\n"
   ]
  },
  {
   "cell_type": "code",
   "execution_count": 30,
   "id": "cca2955f",
   "metadata": {},
   "outputs": [
    {
     "name": "stdout",
     "output_type": "stream",
     "text": [
      "1\n"
     ]
    }
   ],
   "source": [
    "# Minimum value\n",
    "min_value = np.min(a1)\n",
    "print(min_value)"
   ]
  },
  {
   "cell_type": "code",
   "execution_count": 31,
   "id": "82e838bb",
   "metadata": {},
   "outputs": [
    {
     "name": "stdout",
     "output_type": "stream",
     "text": [
      "ascending order: [1 2 3 4 5]\n",
      "descending order: [5 4 3 2 1]\n"
     ]
    }
   ],
   "source": [
    " # Sort in ascending order and descending order\n",
    "arr = np.array([3, 1, 2, 4, 5])\n",
    "sorted_asc = np.sort(arr)\n",
    "print(\"ascending order:\",sorted_asc)\n",
    "sorted_desc = np.sort(arr)[::-1] \n",
    "print(\"descending order:\",sorted_desc)"
   ]
  },
  {
   "cell_type": "code",
   "execution_count": 40,
   "id": "f3d59cf3",
   "metadata": {},
   "outputs": [
    {
     "name": "stdout",
     "output_type": "stream",
     "text": [
      "[1.5 2.6 3.7]\n"
     ]
    }
   ],
   "source": [
    "# Absolute values\n",
    "a2 = np.array([-1.5, 2.6, -3.7])\n",
    "absolute_values = np.abs(a2)\n",
    "print(absolute_values)"
   ]
  },
  {
   "cell_type": "code",
   "execution_count": 41,
   "id": "f3494b1a",
   "metadata": {},
   "outputs": [
    {
     "name": "stdout",
     "output_type": "stream",
     "text": [
      "[-1.5  2.6 -3.7]\n"
     ]
    }
   ],
   "source": [
    "# Round to a specified number of decimal places\n",
    "rounded_values = np.round(a2, 1)\n",
    "print(rounded_values)"
   ]
  },
  {
   "cell_type": "code",
   "execution_count": 45,
   "id": "e87d9619",
   "metadata": {},
   "outputs": [
    {
     "name": "stdout",
     "output_type": "stream",
     "text": [
      "[-2.  2. -4.]\n"
     ]
    }
   ],
   "source": [
    "# Round down to the nearest integer\n",
    "floor_values = np.floor(a2)\n",
    "print(floor_values)"
   ]
  },
  {
   "cell_type": "code",
   "execution_count": 47,
   "id": "41373202",
   "metadata": {},
   "outputs": [
    {
     "name": "stdout",
     "output_type": "stream",
     "text": [
      "[-1.  3. -3.]\n"
     ]
    }
   ],
   "source": [
    "# Round up to the nearest integer\n",
    "ceil_values = np.ceil(a2)\n",
    "print(ceil_values)"
   ]
  },
  {
   "cell_type": "code",
   "execution_count": null,
   "id": "f5bbe9ce",
   "metadata": {},
   "outputs": [],
   "source": []
  }
 ],
 "metadata": {
  "kernelspec": {
   "display_name": "Python 3 (ipykernel)",
   "language": "python",
   "name": "python3"
  },
  "language_info": {
   "codemirror_mode": {
    "name": "ipython",
    "version": 3
   },
   "file_extension": ".py",
   "mimetype": "text/x-python",
   "name": "python",
   "nbconvert_exporter": "python",
   "pygments_lexer": "ipython3",
   "version": "3.11.4"
  }
 },
 "nbformat": 4,
 "nbformat_minor": 5
}
